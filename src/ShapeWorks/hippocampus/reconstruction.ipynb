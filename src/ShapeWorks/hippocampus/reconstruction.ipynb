{
 "cells": [
  {
   "cell_type": "code",
   "execution_count": 80,
   "id": "0271ee05-391f-4718-a62b-548fa82a04c6",
   "metadata": {},
   "outputs": [],
   "source": [
    "import os\n",
    "import sys\n",
    "import igl\n",
    "import torch\n",
    "import subprocess\n",
    "import numpy as np \n",
    "import open3d as o3d\n",
    "import pandas as pd\n",
    "import shapeworks as sw\n",
    "import meshplot as mp\n",
    "import matplotlib.pyplot as plt\n",
    "\n",
    "from glob import glob\n",
    "from tqdm import tqdm\n",
    "from sklearn.decomposition import PCA\n",
    "\n",
    "from ipywidgets import interact, widgets\n",
    "\n",
    "sys.path.append('../../../utils/')\n",
    "from sap_score import sap"
   ]
  },
  {
   "cell_type": "markdown",
   "id": "04147333-27bc-4ce0-b977-eaf4b74c7e17",
   "metadata": {
    "jp-MarkdownHeadingCollapsed": true,
    "tags": []
   },
   "source": [
    "# Original Particles"
   ]
  },
  {
   "cell_type": "markdown",
   "id": "dec3862a-51b8-44de-9aa4-3d481d286f9f",
   "metadata": {
    "tags": []
   },
   "source": [
    "## Save original particle reconstrustion meshes - left"
   ]
  },
  {
   "cell_type": "code",
   "execution_count": 2,
   "id": "20692613-db63-4a40-94ed-3f2fafeed5ba",
   "metadata": {},
   "outputs": [
    {
     "name": "stderr",
     "output_type": "stream",
     "text": [
      "511it [14:37,  1.72s/it]\n"
     ]
    }
   ],
   "source": [
    "orig_dir = 'mesh_left/'\n",
    "if not os.path.exists(orig_dir):\n",
    "    os.makedirs(orig_dir)\n",
    "\n",
    "recon_dir = 'reconstruction_left/'\n",
    "if not os.path.exists(recon_dir):\n",
    "    os.makedirs(recon_dir)\n",
    "\n",
    "meshes = sorted(glob(\"groomed/meshes/data/*left.vtk\"))\n",
    "particles = sorted(glob(\"shape_model/hippocampus_particles/*left_local.particles\"))\n",
    "\n",
    "for i, mesh_path in tqdm(enumerate(meshes)):\n",
    "    mesh_name = mesh_path.split(\"\\\\\")[-1].replace('.vtk', \"\")\n",
    "    \n",
    "    mesh = sw.Mesh(mesh_path)\n",
    "    mesh.write(f\"{orig_dir}{mesh_name}.ply\")\n",
    "    particle = sw.ParticleSystem([particles[i]]).ShapeAsPointSet(0)    \n",
    "    \n",
    "    warper = sw.MeshWarper()\n",
    "    warper.generateWarp(mesh, particle)\n",
    "    warped_mesh = warper.buildMesh(particle)\n",
    "    \n",
    "    warped_mesh.write(f\"{recon_dir}{mesh_name}.ply\")"
   ]
  },
  {
   "cell_type": "markdown",
   "id": "5de8b481-2916-44a0-b559-dd04e058eebe",
   "metadata": {},
   "source": [
    "## Save original particle reconstrustion meshes - left"
   ]
  },
  {
   "cell_type": "code",
   "execution_count": 3,
   "id": "5f4d9782-ffd9-4c3e-8f8e-4de1eaf45bb6",
   "metadata": {},
   "outputs": [
    {
     "name": "stderr",
     "output_type": "stream",
     "text": [
      "511it [14:45,  1.73s/it]\n"
     ]
    }
   ],
   "source": [
    "orig_dir = 'mesh_right/'\n",
    "if not os.path.exists(orig_dir):\n",
    "    os.makedirs(orig_dir)\n",
    "\n",
    "recon_dir = 'reconstruction_right/'\n",
    "if not os.path.exists(recon_dir):\n",
    "    os.makedirs(recon_dir)\n",
    "\n",
    "meshes = sorted(glob(\"groomed/meshes/data/*right.vtk\"))\n",
    "particles = sorted(glob(\"shape_model/hippocampus_particles/*right_local.particles\"))\n",
    "\n",
    "for i, mesh_path in tqdm(enumerate(meshes)):\n",
    "    mesh_name = mesh_path.split(\"\\\\\")[-1].replace('.vtk', \"\")\n",
    "    \n",
    "    mesh = sw.Mesh(mesh_path)\n",
    "    mesh.write(f\"{orig_dir}{mesh_name}.ply\")\n",
    "    particle = sw.ParticleSystem([particles[i]]).ShapeAsPointSet(0)    \n",
    "    \n",
    "    warper = sw.MeshWarper()\n",
    "    warper.generateWarp(mesh, particle)\n",
    "    warped_mesh = warper.buildMesh(particle)\n",
    "    \n",
    "    warped_mesh.write(f\"{recon_dir}{mesh_name}.ply\")"
   ]
  },
  {
   "cell_type": "markdown",
   "id": "a9ff9434-ba39-4904-93b8-62d4d15d9d55",
   "metadata": {},
   "source": [
    "## Hausdorff distance - left + right"
   ]
  },
  {
   "cell_type": "code",
   "execution_count": 4,
   "id": "a7d22728-cec6-4d0f-b0e3-60a68d3de273",
   "metadata": {
    "tags": []
   },
   "outputs": [
    {
     "name": "stderr",
     "output_type": "stream",
     "text": [
      "100%|████████████████████████████████████████████████████████████████████████████████| 511/511 [01:29<00:00,  5.74it/s]\n"
     ]
    }
   ],
   "source": [
    "hausdorff_distances = []\n",
    "left_originals = sorted(glob(\"./mesh_left/*.ply\"))\n",
    "#left_originals = os.listdir(\"mesh_left/\")\n",
    "left_reconstructions = sorted(glob(\"./reconstruction_left/*.ply\"))\n",
    "#left_reconstructions = os.listdir(\"reconstruction_left/\")\n",
    "\n",
    "right_originals = sorted(glob(\"./mesh_right/*.ply\"))\n",
    "#right_originals = os.listdir(\"mesh_right/\")\n",
    "right_reconstructions = sorted(glob(\"./reconstruction_right/*.ply\"))\n",
    "#right_reconstructions = os.listdir(\"reconstruction_right/\")\n",
    "\n",
    "for i in tqdm(range(len(left_originals))):\n",
    "    left_mesh_o = o3d.io.read_triangle_mesh(left_originals[i])\n",
    "    left_vertices_o = np.asarray(left_mesh_o.vertices)\n",
    "    left_faces_o = np.asarray(left_mesh_o.triangles)\n",
    "    left_mesh_r = o3d.io.read_triangle_mesh(left_reconstructions[i])\n",
    "    left_vertices_r = np.asarray(left_mesh_r.vertices)\n",
    "    left_faces_r = np.asarray(left_mesh_r.triangles)\n",
    "    left_dist = igl.hausdorff(left_vertices_o, left_faces_o, left_vertices_r, left_faces_r)\n",
    "    \n",
    "    right_mesh_o = o3d.io.read_triangle_mesh(right_originals[i])\n",
    "    right_vertices_o = np.asarray(right_mesh_o.vertices)\n",
    "    right_faces_o = np.asarray(right_mesh_o.triangles)\n",
    "    right_mesh_r = o3d.io.read_triangle_mesh(right_reconstructions[i])\n",
    "    right_vertices_r = np.asarray(right_mesh_r.vertices)\n",
    "    right_faces_r = np.asarray(right_mesh_r.triangles)\n",
    "    right_dist = igl.hausdorff(right_vertices_o, right_faces_o, right_vertices_r, right_faces_r)\n",
    "    \n",
    "    hausdorff_distances.append(left_dist+right_dist)"
   ]
  },
  {
   "cell_type": "code",
   "execution_count": 5,
   "id": "33b610d6-2343-4e0d-a17f-bd7bc2d75445",
   "metadata": {},
   "outputs": [
    {
     "data": {
      "image/png": "[encoded data removed]",
      "text/plain": [
       "<Figure size 1000x500 with 1 Axes>"
      ]
     },
     "metadata": {},
     "output_type": "display_data"
    }
   ],
   "source": [
    "plt.figure(figsize=(10, 5))\n",
    "plt.hist(hausdorff_distances, bins=60)\n",
    "plt.xlabel(\"Hausdorff distance\")\n",
    "plt.ylabel(\"Frequency\")\n",
    "plt.tight_layout()\n",
    "plt.savefig(\"figures/hausdorff.png\")\n",
    "plt.show()"
   ]
  },
  {
   "cell_type": "markdown",
   "id": "55a2b28a-5397-4828-baaa-3f75a8873d36",
   "metadata": {},
   "source": [
    "## Plot worst reconstruction"
   ]
  },
  {
   "cell_type": "code",
   "execution_count": 6,
   "id": "67493cc4-da85-4229-9169-cfb2ea8aa9e4",
   "metadata": {},
   "outputs": [
    {
     "name": "stdout",
     "output_type": "stream",
     "text": [
      "[INFO]: Original: red | Reconstruction: gray\n",
      "[INFO]: Index of worst reconstruction: 193\n",
      "[INFO]: Reconstruction error: 1.3574935140627709\n"
     ]
    },
    {
     "data": {
      "application/vnd.jupyter.widget-view+json": {
       "model_id": "c2843c9dcbae4ca48188d59f0a6c8317",
       "version_major": 2,
       "version_minor": 0
      },
      "text/plain": [
       "Renderer(camera=PerspectiveCamera(children=(DirectionalLight(color='white', intensity=0.6, position=(90.463401…"
      ]
     },
     "metadata": {},
     "output_type": "display_data"
    },
    {
     "name": "stdout",
     "output_type": "stream",
     "text": [
      "Plot saved to file figures/worst_reconstruction.png.html.\n"
     ]
    }
   ],
   "source": [
    "shading = {\"wireframe\":True, \"wire_width\": 1, \"wire_color\": \"yellow\"}\n",
    "\n",
    "idx = np.argmax(hausdorff_distances)\n",
    "error = np.max(hausdorff_distances)\n",
    "\n",
    "left_vertices_o, left_faces_o = igl.read_triangle_mesh(left_originals[idx])\n",
    "left_vertices_r, left_faces_r = igl.read_triangle_mesh(left_reconstructions[idx])\n",
    "\n",
    "right_vertices_o, right_faces_o = igl.read_triangle_mesh(right_originals[idx])\n",
    "right_vertices_r, right_faces_r = igl.read_triangle_mesh(right_reconstructions[idx])\n",
    "\n",
    "print(\"[INFO]: Original: red | Reconstruction: gray\")\n",
    "print(f\"[INFO]: Index of worst reconstruction: {idx}\")\n",
    "print(f\"[INFO]: Reconstruction error: {error}\")\n",
    "\n",
    "p = mp.plot(v=left_vertices_o, f=left_faces_o, c=np.array([0.7,0.1,0.1])) #shading=shading)\n",
    "p.add_mesh(v=left_vertices_r, f=left_faces_r, c=np.array([0.9,0.9,0.9]))\n",
    "p.add_mesh(v=right_vertices_o, f=right_faces_o, c=np.array([0.7,0.1,0.1])) #shading=shading)\n",
    "p.add_mesh(v=right_vertices_r, f=right_faces_r, c=np.array([0.9,0.9,0.9]))\n",
    "p.save(\"figures/worst_reconstruction.png\")"
   ]
  },
  {
   "cell_type": "markdown",
   "id": "31b842ad-8be9-4e82-b74c-df6e8411eb39",
   "metadata": {},
   "source": [
    "# Load labels"
   ]
  },
  {
   "cell_type": "code",
   "execution_count": 3,
   "id": "846fd068-026e-4415-a3c1-2dcafa01035d",
   "metadata": {},
   "outputs": [
    {
     "data": {
      "text/html": [
       "<div>\n",
       "<style scoped>\n",
       "    .dataframe tbody tr th:only-of-type {\n",
       "        vertical-align: middle;\n",
       "    }\n",
       "\n",
       "    .dataframe tbody tr th {\n",
       "        vertical-align: top;\n",
       "    }\n",
       "\n",
       "    .dataframe thead th {\n",
       "        text-align: right;\n",
       "    }\n",
       "</style>\n",
       "<table border=\"1\" class=\"dataframe\">\n",
       "  <thead>\n",
       "    <tr style=\"text-align: right;\">\n",
       "      <th></th>\n",
       "      <th>subject</th>\n",
       "      <th>age</th>\n",
       "      <th>gender</th>\n",
       "      <th>subject_id</th>\n",
       "      <th>isManual</th>\n",
       "    </tr>\n",
       "  </thead>\n",
       "  <tbody>\n",
       "    <tr>\n",
       "      <th>237</th>\n",
       "      <td>ab300_257</td>\n",
       "      <td>73</td>\n",
       "      <td>F</td>\n",
       "      <td>257</td>\n",
       "      <td>0</td>\n",
       "    </tr>\n",
       "  </tbody>\n",
       "</table>\n",
       "</div>"
      ],
      "text/plain": [
       "       subject  age gender  subject_id  isManual\n",
       "237  ab300_257   73      F         257         0"
      ]
     },
     "execution_count": 3,
     "metadata": {},
     "output_type": "execute_result"
    }
   ],
   "source": [
    "df = pd.read_csv(\"demographics.csv\", delimiter=\";\")\n",
    "\n",
    "files = glob(\"data/*.nii\")\n",
    "\n",
    "filenames = []\n",
    "for filename in files:\n",
    "    filename = filename.split(\"\\\\\")[-1].replace(\"_standard.nii\", \"\")\n",
    "    filenames.append(filename)\n",
    "    \n",
    "for filename in filenames:\n",
    "    if not filename in df.subject.to_list():\n",
    "        print(f\"There is no label for: {filename}\")\n",
    "\n",
    "df[df.subject == \"ab300_257\"]"
   ]
  },
  {
   "cell_type": "markdown",
   "id": "ba032dd0-7657-467d-b060-02c6c5deba99",
   "metadata": {
    "tags": []
   },
   "source": [
    "# PCA Particles"
   ]
  },
  {
   "cell_type": "code",
   "execution_count": 176,
   "id": "0629b3a3-c3f3-40a0-8be6-5bbbebb2b3e3",
   "metadata": {},
   "outputs": [],
   "source": [
    "num_particles = 2048"
   ]
  },
  {
   "cell_type": "code",
   "execution_count": 177,
   "id": "1aa1e880-abfa-4871-aeda-bf13805b25d0",
   "metadata": {},
   "outputs": [
    {
     "name": "stderr",
     "output_type": "stream",
     "text": [
      "100%|███████████████████████████████████████████████████████████████████████████| 511/511 [00:03<00:00, 168.86it/s]\n",
      "100%|███████████████████████████████████████████████████████████████████████████| 511/511 [00:02<00:00, 174.70it/s]\n"
     ]
    }
   ],
   "source": [
    "# left particles\n",
    "particles_list = []\n",
    "\n",
    "for particles_path in tqdm(glob(f\"shape_model_{num_particles}/hippocampus_particles/*left_local.particles\")):\n",
    "    particles_list.append(sw.ParticleSystem([particles_path]).ShapeAsPointSet(0).flatten())       \n",
    "    \n",
    "particles_array = np.array(particles_list)\n",
    "\n",
    "# right particles\n",
    "right_particles_list = []\n",
    "\n",
    "for particles_path in tqdm(glob(f\"shape_model_{num_particles}/hippocampus_particles/*right_local.particles\")):\n",
    "    right_particles_list.append(sw.ParticleSystem([particles_path]).ShapeAsPointSet(0).flatten())       \n",
    "    \n",
    "right_particles_array = np.array(right_particles_list)"
   ]
  },
  {
   "cell_type": "code",
   "execution_count": 178,
   "id": "fdddf971-2a7f-48b1-8373-7a8f9ebc27c8",
   "metadata": {},
   "outputs": [],
   "source": [
    "# left PCA\n",
    "pca = PCA(n_components=16)\n",
    "pca.fit(particles_array)\n",
    "pca_latent = pca.transform(particles_array)\n",
    "recon_particles_array = pca.inverse_transform(pca_latent).reshape(pca_latent.shape[0], -1, 3)\n",
    "\n",
    "# right PCA\n",
    "pca = PCA(n_components=16)\n",
    "pca.fit(right_particles_array)\n",
    "right_pca_latent = pca.transform(right_particles_array)\n",
    "right_recon_particles_array = pca.inverse_transform(right_pca_latent).reshape(right_pca_latent.shape[0], -1, 3)"
   ]
  },
  {
   "cell_type": "code",
   "execution_count": 179,
   "id": "431173b5-e32b-4df2-8340-2df1215a7329",
   "metadata": {},
   "outputs": [
    {
     "name": "stdout",
     "output_type": "stream",
     "text": [
      "SAP score: 0.1329\n",
      "SAP score: 0.1053\n"
     ]
    }
   ],
   "source": [
    "# left SAP\n",
    "codes = np.delete(pca_latent, 237, 0)\n",
    "factors = df.age.to_numpy().reshape(-1,1)\n",
    "print(f\"SAP score: {sap(factors, codes):.4f}\")\n",
    "\n",
    "# right SAP\n",
    "codes = np.delete(right_pca_latent, 237, 0)\n",
    "factors = df.age.to_numpy().reshape(-1,1)\n",
    "print(f\"SAP score: {sap(factors, codes):.4f}\")"
   ]
  },
  {
   "cell_type": "code",
   "execution_count": 180,
   "id": "23a5a7a0-532c-46fd-a58a-84f13b255d75",
   "metadata": {},
   "outputs": [
    {
     "name": "stderr",
     "output_type": "stream",
     "text": [
      "100%|████████████████████████████████████████████████████████████████████████████| 511/511 [00:16<00:00, 30.75it/s]\n",
      "100%|████████████████████████████████████████████████████████████████████████████| 511/511 [00:18<00:00, 27.60it/s]\n"
     ]
    }
   ],
   "source": [
    "# left meshes\n",
    "mesh_list = []\n",
    "\n",
    "for mesh_path in tqdm(glob(\"groomed/*left.vtk\")):\n",
    "    mesh_list.append(sw.Mesh(mesh_path))                      \n",
    "    \n",
    "# right meshes\n",
    "right_mesh_list = []\n",
    "\n",
    "for mesh_path in tqdm(glob(\"groomed/*right.vtk\")):\n",
    "    right_mesh_list.append(sw.Mesh(mesh_path))   "
   ]
  },
  {
   "cell_type": "code",
   "execution_count": null,
   "id": "b206e4e3-47b9-4aa9-99bf-8a5935e4d62f",
   "metadata": {},
   "outputs": [
    {
     "name": "stderr",
     "output_type": "stream",
     "text": [
      " 36%|███████████████████████████▎                                                | 184/511 [10:08<19:14,  3.53s/it]"
     ]
    }
   ],
   "source": [
    "distances = []\n",
    "distances_left = []\n",
    "distances_right = []\n",
    "left_recon_mesh_list = []\n",
    "right_recon_mesh_list = []\n",
    "\n",
    "for subject in tqdm(range(len(mesh_list))):\n",
    "\n",
    "    # left\n",
    "    warper = sw.MeshWarper()\n",
    "    warper.generateWarp(mesh_list[subject], recon_particles_array[subject])\n",
    "    warped_mesh = warper.buildMesh(recon_particles_array[subject])\n",
    "    left_recon_mesh_list.append(warped_mesh)\n",
    "    # dist_left = igl.hausdorff(mesh_list[subject].points(), mesh_list[subject].faces(), warped_mesh.points(), warped_mesh.faces())\n",
    "    dist_left = np.mean(np.sqrt(igl.point_mesh_squared_distance(mesh_list[subject].points(), warped_mesh.points(), warped_mesh.faces())[0]))\n",
    "    distances_left.append(dist_left)\n",
    "    \n",
    "    # right\n",
    "    warper = sw.MeshWarper()\n",
    "    warper.generateWarp(right_mesh_list[subject], right_recon_particles_array[subject])\n",
    "    warped_mesh = warper.buildMesh(right_recon_particles_array[subject])\n",
    "    right_recon_mesh_list.append(warped_mesh)\n",
    "    # dist_right = igl.hausdorff(right_mesh_list[subject].points(), right_mesh_list[subject].faces(), warped_mesh.points(), warped_mesh.faces())\n",
    "    dist_right = np.mean(np.sqrt(igl.point_mesh_squared_distance(right_mesh_list[subject].points(), warped_mesh.points(), warped_mesh.faces())[0]))    \n",
    "    distances_right.append(dist_right)\n",
    "    \n",
    "    distances.append(dist_left+dist_right)\n",
    "\n",
    "torch.save(distances_left, f\"shape_model_{num_particles}/distances_left.pt\")\n",
    "torch.save(distances_right, f\"shape_model_{num_particles}/distances_right.pt\")\n",
    "torch.save(distances, f\"shape_model_{num_particles}/distances.pt\")"
   ]
  },
  {
   "cell_type": "code",
   "execution_count": 163,
   "id": "8f89aaf4-6a4e-447b-ac32-a386e83496fc",
   "metadata": {},
   "outputs": [
    {
     "data": {
      "text/html": [
       "<div>\n",
       "<style scoped>\n",
       "    .dataframe tbody tr th:only-of-type {\n",
       "        vertical-align: middle;\n",
       "    }\n",
       "\n",
       "    .dataframe tbody tr th {\n",
       "        vertical-align: top;\n",
       "    }\n",
       "\n",
       "    .dataframe thead th {\n",
       "        text-align: right;\n",
       "    }\n",
       "</style>\n",
       "<table border=\"1\" class=\"dataframe\">\n",
       "  <thead>\n",
       "    <tr style=\"text-align: right;\">\n",
       "      <th></th>\n",
       "      <th>0</th>\n",
       "    </tr>\n",
       "  </thead>\n",
       "  <tbody>\n",
       "    <tr>\n",
       "      <th>count</th>\n",
       "      <td>511.000000</td>\n",
       "    </tr>\n",
       "    <tr>\n",
       "      <th>mean</th>\n",
       "      <td>0.296570</td>\n",
       "    </tr>\n",
       "    <tr>\n",
       "      <th>std</th>\n",
       "      <td>0.052929</td>\n",
       "    </tr>\n",
       "    <tr>\n",
       "      <th>min</th>\n",
       "      <td>0.187529</td>\n",
       "    </tr>\n",
       "    <tr>\n",
       "      <th>25%</th>\n",
       "      <td>0.262667</td>\n",
       "    </tr>\n",
       "    <tr>\n",
       "      <th>50%</th>\n",
       "      <td>0.291013</td>\n",
       "    </tr>\n",
       "    <tr>\n",
       "      <th>75%</th>\n",
       "      <td>0.318679</td>\n",
       "    </tr>\n",
       "    <tr>\n",
       "      <th>max</th>\n",
       "      <td>0.675147</td>\n",
       "    </tr>\n",
       "  </tbody>\n",
       "</table>\n",
       "</div>"
      ],
      "text/plain": [
       "                0\n",
       "count  511.000000\n",
       "mean     0.296570\n",
       "std      0.052929\n",
       "min      0.187529\n",
       "25%      0.262667\n",
       "50%      0.291013\n",
       "75%      0.318679\n",
       "max      0.675147"
      ]
     },
     "execution_count": 163,
     "metadata": {},
     "output_type": "execute_result"
    }
   ],
   "source": [
    "pd.DataFrame(distances_left).describe()"
   ]
  },
  {
   "cell_type": "code",
   "execution_count": 164,
   "id": "3215e29c-d389-46dc-9cb3-9b45bcc3456f",
   "metadata": {},
   "outputs": [
    {
     "data": {
      "text/html": [
       "<div>\n",
       "<style scoped>\n",
       "    .dataframe tbody tr th:only-of-type {\n",
       "        vertical-align: middle;\n",
       "    }\n",
       "\n",
       "    .dataframe tbody tr th {\n",
       "        vertical-align: top;\n",
       "    }\n",
       "\n",
       "    .dataframe thead th {\n",
       "        text-align: right;\n",
       "    }\n",
       "</style>\n",
       "<table border=\"1\" class=\"dataframe\">\n",
       "  <thead>\n",
       "    <tr style=\"text-align: right;\">\n",
       "      <th></th>\n",
       "      <th>0</th>\n",
       "    </tr>\n",
       "  </thead>\n",
       "  <tbody>\n",
       "    <tr>\n",
       "      <th>count</th>\n",
       "      <td>511.000000</td>\n",
       "    </tr>\n",
       "    <tr>\n",
       "      <th>mean</th>\n",
       "      <td>0.292148</td>\n",
       "    </tr>\n",
       "    <tr>\n",
       "      <th>std</th>\n",
       "      <td>0.048728</td>\n",
       "    </tr>\n",
       "    <tr>\n",
       "      <th>min</th>\n",
       "      <td>0.191282</td>\n",
       "    </tr>\n",
       "    <tr>\n",
       "      <th>25%</th>\n",
       "      <td>0.259350</td>\n",
       "    </tr>\n",
       "    <tr>\n",
       "      <th>50%</th>\n",
       "      <td>0.285430</td>\n",
       "    </tr>\n",
       "    <tr>\n",
       "      <th>75%</th>\n",
       "      <td>0.320677</td>\n",
       "    </tr>\n",
       "    <tr>\n",
       "      <th>max</th>\n",
       "      <td>0.526615</td>\n",
       "    </tr>\n",
       "  </tbody>\n",
       "</table>\n",
       "</div>"
      ],
      "text/plain": [
       "                0\n",
       "count  511.000000\n",
       "mean     0.292148\n",
       "std      0.048728\n",
       "min      0.191282\n",
       "25%      0.259350\n",
       "50%      0.285430\n",
       "75%      0.320677\n",
       "max      0.526615"
      ]
     },
     "execution_count": 164,
     "metadata": {},
     "output_type": "execute_result"
    }
   ],
   "source": [
    "pd.DataFrame(distances_right).describe()"
   ]
  },
  {
   "cell_type": "code",
   "execution_count": 165,
   "id": "1940d2f4-d1eb-4962-933b-e9b83986fa93",
   "metadata": {},
   "outputs": [
    {
     "data": {
      "text/html": [
       "<div>\n",
       "<style scoped>\n",
       "    .dataframe tbody tr th:only-of-type {\n",
       "        vertical-align: middle;\n",
       "    }\n",
       "\n",
       "    .dataframe tbody tr th {\n",
       "        vertical-align: top;\n",
       "    }\n",
       "\n",
       "    .dataframe thead th {\n",
       "        text-align: right;\n",
       "    }\n",
       "</style>\n",
       "<table border=\"1\" class=\"dataframe\">\n",
       "  <thead>\n",
       "    <tr style=\"text-align: right;\">\n",
       "      <th></th>\n",
       "      <th>0</th>\n",
       "    </tr>\n",
       "  </thead>\n",
       "  <tbody>\n",
       "    <tr>\n",
       "      <th>count</th>\n",
       "      <td>511.000000</td>\n",
       "    </tr>\n",
       "    <tr>\n",
       "      <th>mean</th>\n",
       "      <td>0.588719</td>\n",
       "    </tr>\n",
       "    <tr>\n",
       "      <th>std</th>\n",
       "      <td>0.084695</td>\n",
       "    </tr>\n",
       "    <tr>\n",
       "      <th>min</th>\n",
       "      <td>0.422650</td>\n",
       "    </tr>\n",
       "    <tr>\n",
       "      <th>25%</th>\n",
       "      <td>0.533934</td>\n",
       "    </tr>\n",
       "    <tr>\n",
       "      <th>50%</th>\n",
       "      <td>0.576405</td>\n",
       "    </tr>\n",
       "    <tr>\n",
       "      <th>75%</th>\n",
       "      <td>0.631127</td>\n",
       "    </tr>\n",
       "    <tr>\n",
       "      <th>max</th>\n",
       "      <td>1.072224</td>\n",
       "    </tr>\n",
       "  </tbody>\n",
       "</table>\n",
       "</div>"
      ],
      "text/plain": [
       "                0\n",
       "count  511.000000\n",
       "mean     0.588719\n",
       "std      0.084695\n",
       "min      0.422650\n",
       "25%      0.533934\n",
       "50%      0.576405\n",
       "75%      0.631127\n",
       "max      1.072224"
      ]
     },
     "execution_count": 165,
     "metadata": {},
     "output_type": "execute_result"
    }
   ],
   "source": [
    "pd.DataFrame(distances).describe()"
   ]
  },
  {
   "cell_type": "code",
   "execution_count": 166,
   "id": "9301db04-7869-4816-ad6f-25d47b7c7403",
   "metadata": {},
   "outputs": [
    {
     "data": {
      "image/png": "[encoded data removed]",
      "text/plain": [
       "<Figure size 640x480 with 1 Axes>"
      ]
     },
     "metadata": {},
     "output_type": "display_data"
    }
   ],
   "source": [
    "plt.hist(np.array(distances), bins=100)\n",
    "plt.xlabel(\"Distance [mm]\")\n",
    "plt.ylabel(\"Frquency\")\n",
    "plt.grid(True)\n",
    "plt.show()"
   ]
  },
  {
   "cell_type": "markdown",
   "id": "0e17cf5b-8a10-4904-8168-044d70eb06b4",
   "metadata": {},
   "source": [
    "## Plot worst reconstruction"
   ]
  },
  {
   "cell_type": "code",
   "execution_count": 167,
   "id": "d56568f4-519a-4881-ac90-10f1f0797976",
   "metadata": {
    "tags": []
   },
   "outputs": [
    {
     "name": "stdout",
     "output_type": "stream",
     "text": [
      "[INFO]: Index of worst reconstruction: 337\n",
      "[INFO]: Distance: 1.07 mm\n",
      "[INFO]: Mean dist left: 0.68mm\n",
      "[INFO]: Max dist left: 5.14mm\n",
      "[INFO]: Mean dist right: 0.40mm\n",
      "[INFO]: Max dist right: 1.58mm\n"
     ]
    },
    {
     "data": {
      "application/vnd.jupyter.widget-view+json": {
       "model_id": "1af89000673942b1b48d4d9be21c3ce2",
       "version_major": 2,
       "version_minor": 0
      },
      "text/plain": [
       "Renderer(camera=PerspectiveCamera(children=(DirectionalLight(color='white', intensity=0.6, position=(94.060298…"
      ]
     },
     "metadata": {},
     "output_type": "display_data"
    },
    {
     "data": {
      "text/plain": [
       "1"
      ]
     },
     "execution_count": 167,
     "metadata": {},
     "output_type": "execute_result"
    }
   ],
   "source": [
    "maps = ['viridis', 'plasma', 'inferno', 'magma', 'cividis', 'jet']\n",
    "shading = {\"colormap\": maps[5]}\n",
    "\n",
    "subject = np.argmax(distances)\n",
    "\n",
    "# print(\"[INFO]: Original: yellow | Reconstruction: red\")\n",
    "print(f\"[INFO]: Index of worst reconstruction: {subject}\")\n",
    "print(f\"[INFO]: Distance: {distances[subject]:.2f} mm\")\n",
    "\n",
    "left_dist = np.sqrt(igl.point_mesh_squared_distance(mesh_list[subject].points(), left_recon_mesh_list[subject].points(), left_recon_mesh_list[subject].faces())[0])\n",
    "print(f\"[INFO]: Mean dist left: {np.mean(left_dist):.2f}mm\")\n",
    "print(f\"[INFO]: Max dist left: {np.max(left_dist):.2f}mm\")\n",
    "right_dist = np.sqrt(igl.point_mesh_squared_distance(right_mesh_list[subject].points(), right_recon_mesh_list[subject].points(), right_recon_mesh_list[subject].faces())[0])\n",
    "print(f\"[INFO]: Mean dist right: {np.mean(right_dist):.2f}mm\")\n",
    "print(f\"[INFO]: Max dist right: {np.max(right_dist):.2f}mm\")\n",
    "\n",
    "#p = mp.plot(v=recon_mesh_list[subject].points(), f=recon_mesh_list[subject].faces(), c=np.array([0.7,0.1,0.1]))\n",
    "p = mp.plot(v=mesh_list[subject].points(), f=mesh_list[subject].faces(), c=left_dist, shading=shading)\n",
    "\n",
    "#p.add_mesh(v=right_recon_mesh_list[subject].points(), f=right_recon_mesh_list[subject].faces(), c=np.array([0.7,0.1,0.1]))\n",
    "p.add_mesh(v=right_mesh_list[subject].points(), f=right_mesh_list[subject].faces(), c=right_dist, shading=shading)\n"
   ]
  },
  {
   "cell_type": "markdown",
   "id": "4bd08cb9-f91e-47a8-a921-a46f788119c8",
   "metadata": {},
   "source": [
    "## Plot best reconstruction"
   ]
  },
  {
   "cell_type": "code",
   "execution_count": 168,
   "id": "d68992fd-b732-44ee-9efe-1257efe1c7c3",
   "metadata": {},
   "outputs": [
    {
     "name": "stdout",
     "output_type": "stream",
     "text": [
      "[INFO]: Index of best reconstruction: 51\n",
      "[INFO]: Distance: 0.42 mm\n",
      "[INFO]: Mean dist left: 0.22mm\n",
      "[INFO]: Max dist left: 1.22mm\n",
      "[INFO]: Mean dist right: 0.20mm\n",
      "[INFO]: Max dist right: 1.28mm\n"
     ]
    },
    {
     "data": {
      "application/vnd.jupyter.widget-view+json": {
       "model_id": "d0c2d98b47a54336b7c074c1d73587ad",
       "version_major": 2,
       "version_minor": 0
      },
      "text/plain": [
       "Renderer(camera=PerspectiveCamera(children=(DirectionalLight(color='white', intensity=0.6, position=(90.484249…"
      ]
     },
     "metadata": {},
     "output_type": "display_data"
    },
    {
     "data": {
      "text/plain": [
       "1"
      ]
     },
     "execution_count": 168,
     "metadata": {},
     "output_type": "execute_result"
    }
   ],
   "source": [
    "maps = ['viridis', 'plasma', 'inferno', 'magma', 'cividis', 'jet']\n",
    "shading = {\"colormap\": maps[5]}\n",
    "\n",
    "subject = np.argmin(distances)\n",
    "\n",
    "# print(\"[INFO]: Original: yellow | Reconstruction: red\")\n",
    "print(f\"[INFO]: Index of best reconstruction: {subject}\")\n",
    "print(f\"[INFO]: Distance: {distances[subject]:.2f} mm\")\n",
    "\n",
    "left_dist = np.sqrt(igl.point_mesh_squared_distance(mesh_list[subject].points(), left_recon_mesh_list[subject].points(), left_recon_mesh_list[subject].faces())[0])\n",
    "print(f\"[INFO]: Mean dist left: {np.mean(left_dist):.2f}mm\")\n",
    "print(f\"[INFO]: Max dist left: {np.max(left_dist):.2f}mm\")\n",
    "right_dist = np.sqrt(igl.point_mesh_squared_distance(right_mesh_list[subject].points(), right_recon_mesh_list[subject].points(), right_recon_mesh_list[subject].faces())[0])\n",
    "print(f\"[INFO]: Mean dist right: {np.mean(right_dist):.2f}mm\")\n",
    "print(f\"[INFO]: Max dist right: {np.max(right_dist):.2f}mm\")\n",
    "\n",
    "#p = mp.plot(v=recon_mesh_list[subject].points(), f=recon_mesh_list[subject].faces(), c=np.array([0.7,0.1,0.1]))\n",
    "p = mp.plot(v=mesh_list[subject].points(), f=mesh_list[subject].faces(), c=left_dist, shading=shading)\n",
    "\n",
    "#p.add_mesh(v=right_recon_mesh_list[subject].points(), f=right_recon_mesh_list[subject].faces(), c=np.array([0.7,0.1,0.1]))\n",
    "p.add_mesh(v=right_mesh_list[subject].points(), f=right_mesh_list[subject].faces(), c=right_dist, shading=shading)\n"
   ]
  },
  {
   "cell_type": "markdown",
   "id": "da961d4c-12a4-4bf4-9f39-793aeb7e042e",
   "metadata": {},
   "source": [
    "## Summary plot: Reconstruction error over Number of Particles"
   ]
  },
  {
   "cell_type": "code",
   "execution_count": 169,
   "id": "bec6c330-3ed1-4e67-8263-ec62f47cc26b",
   "metadata": {},
   "outputs": [],
   "source": [
    "# mean_dist_left_128 = 1.9119\n",
    "mean_dist_left_128 = np.mean(torch.load(f\"shape_model_{num_particles}/distances_left.pt\"))\n",
    "# mean_dist_right_128 = 1.8809\n",
    "mean_dist_right_128 = np.mean(torch.load(f\"shape_model_{num_particles}/distances_right.pt\"))\n",
    "# mean_dist_overall_128 = 3.7928\n",
    "mean_dist_overall_128 = torch.load(f\"shape_model_{num_particles}/distances.pt\")\n",
    "mean_dist_left_256 = np.mean(torch.load(f\"shape_model_{num_particles}/distances_left.pt\"))\n",
    "mean_dist_right_256 = np.mean(torch.load(f\"shape_model_{num_particles}/distances_right.pt\"))\n",
    "mean_dist_overall_256 = torch.load(f\"shape_model_{num_particles}/distances.pt\")\n",
    "mean_dist_left_512 = np.mean(torch.load(f\"shape_model_{num_particles}/distances_left.pt\"))\n",
    "mean_dist_right_512 = np.mean(torch.load(f\"shape_model_{num_particles}/distances_right.pt\"))\n",
    "mean_dist_overall_512 = torch.load(f\"shape_model_{num_particles}/distances.pt\")\n",
    "mean_dist_left_1024 = np.mean(torch.load(f\"shape_model_{num_particles}/distances_left.pt\"))\n",
    "mean_dist_right_1024 = np.mean(torch.load(f\"shape_model_{num_particles}/distances_right.pt\"))\n",
    "mean_dist_overall_1024 = torch.load(f\"shape_model_{num_particles}/distances.pt\")\n",
    "# mean_dist_left_2048 = np.mean(torch.load(f\"shape_model_{num_particles}/distances_left.pt\"))\n",
    "# mean_dist_right_2048 = np.mean(torch.load(f\"shape_model_{num_particles}/distances_right.pt\"))\n",
    "# mean_dist_overall_2048 = torch.load(f\"shape_model_{num_particles}/distances.pt\")\n",
    "# mean_dist_left_4096 = np.mean(torch.load(f\"shape_model_{num_particles}/distances_left.pt\"))\n",
    "# mean_dist_right_4096 = np.mean(torch.load(f\"shape_model_{num_particles}/distances_right.pt\"))\n",
    "# mean_dist_overall_4096 = torch.load(f\"shape_model_{num_particles}/distances.pt\")"
   ]
  },
  {
   "cell_type": "code",
   "execution_count": 175,
   "id": "1dbb5303-b318-45d7-8716-ffa1c0d0dfb4",
   "metadata": {},
   "outputs": [
    {
     "data": {
      "image/png": "[encoded data removed]",
      "text/plain": [
       "<Figure size 1200x600 with 1 Axes>"
      ]
     },
     "metadata": {},
     "output_type": "display_data"
    }
   ],
   "source": [
    "# plt.figure(figsize=(12,6))\n",
    "fig, ax = plt.subplots(figsize=(12,6))\n",
    "\n",
    "plt.scatter(1, mean_dist_left_128, c=\"r\")\n",
    "plt.scatter(1, mean_dist_right_128, c=\"g\")\n",
    "plt.scatter(1, np.median(mean_dist_overall_128), c=\"b\")\n",
    "plt.scatter(2, mean_dist_left_256, c=\"r\")\n",
    "plt.scatter(2, mean_dist_right_256, c=\"g\")\n",
    "plt.scatter(2, np.median(mean_dist_overall_256), c=\"b\")\n",
    "plt.scatter(3, mean_dist_left_512, c=\"r\")\n",
    "plt.scatter(3, mean_dist_right_512, c=\"g\")\n",
    "plt.scatter(3, np.median(mean_dist_overall_512),c=\"b\")\n",
    "plt.scatter(4, mean_dist_left_1024, c=\"r\")\n",
    "plt.scatter(4, mean_dist_right_1024, c=\"g\")\n",
    "plt.scatter(4, np.median(mean_dist_overall_1024), c=\"b\")\n",
    "# plt.scatter(5, mean_dist_left_2048, c=\"r\")\n",
    "# plt.scatter(5, mean_dist_right_2048, c=\"g\")\n",
    "# plt.scatter(5, np.median(mean_dist_overall_2048), c=\"b\")\n",
    "# plt.scatter(6, mean_dist_left_4096, c=\"r\")\n",
    "# plt.scatter(6, mean_dist_right_4096, c=\"g\")\n",
    "# plt.scatter(6, np.median(mean_dist_overall_4096), c=\"b\")\n",
    "\n",
    "my_dict = {\"128\": mean_dist_overall_128, \n",
    "           \"256\": mean_dist_overall_256,\n",
    "           \"512\": mean_dist_overall_512,\n",
    "           \"1024\": mean_dist_overall_1024,\n",
    "           \"2048\": mean_dist_overall_1024,\n",
    "           \"4096\": mean_dist_overall_1024}\n",
    "\n",
    "ax.boxplot(my_dict.values())\n",
    "\n",
    "plt.plot([1,2,3,4,5], [mean_dist_left_128, mean_dist_left_256, mean_dist_left_512, mean_dist_left_1024, mean_dist_left_2048], c='r', label=\"left\")\n",
    "plt.plot([1,2,3,4,5], [mean_dist_right_128, mean_dist_right_256, mean_dist_right_512, mean_dist_right_1024, mean_dist_right_2048], c='g', label=\"right\")\n",
    "plt.plot([1,2,3,4,5], [np.median(mean_dist_overall_128), np.median(mean_dist_overall_256), np.median(mean_dist_overall_512), np.median(mean_dist_overall_1024), np.median(mean_dist_overall_2048)], c='b', label=\"left+right\")\n",
    "\n",
    "plt.xlabel(\"Number of Particles\")\n",
    "plt.ylabel(\"Mean distance [mm]\")\n",
    "plt.xticks([1, 2, 3, 4, 5, 6], [128, 256, 512, 1024, 2048, 4096])\n",
    "plt.legend()\n",
    "plt.grid(True)\n",
    "plt.show()"
   ]
  },
  {
   "cell_type": "code",
   "execution_count": null,
   "id": "c64c86eb-e497-4cff-9efc-6aafc0c1cd24",
   "metadata": {},
   "outputs": [],
   "source": []
  }
 ],
 "metadata": {
  "kernelspec": {
   "display_name": "Python 3 (ipykernel)",
   "language": "python",
   "name": "python3"
  },
  "language_info": {
   "codemirror_mode": {
    "name": "ipython",
    "version": 3
   },
   "file_extension": ".py",
   "mimetype": "text/x-python",
   "name": "python",
   "nbconvert_exporter": "python",
   "pygments_lexer": "ipython3",
   "version": "3.7.12"
  }
 },
 "nbformat": 4,
 "nbformat_minor": 5
}
